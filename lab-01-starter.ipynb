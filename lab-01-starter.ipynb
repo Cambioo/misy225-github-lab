{
 "cells": [
  {
   "cell_type": "markdown",
   "metadata": {},
   "source": [
    "In the following cell, implement a simple game rental program:\n",
    "\n",
    "- two prices: newly released games $1.25 per day, old games $0.75 per day\n",
    "- use multiple input boxes to ask the users how many new and how many old games they want to rent and for how long\n",
    "- based on the input, calculate the total charge\n",
    "- use f-strings and escape character to print the result out as follows (total charge must be formatted as a float number with one decimal):\n",
    "\n",
    "<img width=\"352\" src=\"https://user-images.githubusercontent.com/595772/188787724-bca683b4-751e-4da0-b236-c532980b9f0c.png\">\n",
    "\n",
    " "
   ]
  },
  {
   "cell_type": "code",
   "execution_count": 2,
   "metadata": {},
   "outputs": [
    {
     "name": "stdout",
     "output_type": "stream",
     "text": [
      "The following is the order summary:\n",
      "new game's daily rate is $1.25\n",
      "# of new games: 4 and total rental days: 13\n",
      "old game's daily rate is $0.75\n",
      "# of old games: 3 and total rental days: 22\n",
      "--------------------\n",
      "The total charge is $114.5\n"
     ]
    }
   ],
   "source": [
    "# initialize price variables\n",
    "price_of_new = 1.25\n",
    "price_of_old = 0.75\n",
    "# ask user for inputs\n",
    "number_of_new = int(input('How many new games will you rent?'))\n",
    "days_of_new = int(input('How many days will you rent for the new games?'))\n",
    "number_of_old = int(input('How many old games will you rent?'))\n",
    "days_of_old = int(input('How many days will you rent for the old games?'))\n",
    "# calculate the total\n",
    "total_charge = number_of_new*days_of_new*price_of_new + number_of_old*days_of_old*price_of_old\n",
    "# print the result\n",
    "print(f'The following is the order summary:\\nnew game\\'s daily rate is ${price_of_new}\\n# of new games: {number_of_new} and total rental days: {days_of_new}\\nold game\\'s daily rate is ${price_of_old}\\n# of old games: {number_of_old} and total rental days: {days_of_old}\\n{\"-\"*20}\\nThe total charge is ${total_charge}')"
   ]
  }
 ],
 "metadata": {
  "kernelspec": {
   "display_name": "Python 3.10.4 ('ds')",
   "language": "python",
   "name": "python3"
  },
  "language_info": {
   "codemirror_mode": {
    "name": "ipython",
    "version": 3
   },
   "file_extension": ".py",
   "mimetype": "text/x-python",
   "name": "python",
   "nbconvert_exporter": "python",
   "pygments_lexer": "ipython3",
   "version": "3.10.4"
  },
  "orig_nbformat": 4,
  "vscode": {
   "interpreter": {
    "hash": "b57a96267d6e34bc65f2e5836fdc93abfcc5fe4055e70ac667f31861df698bcf"
   }
  }
 },
 "nbformat": 4,
 "nbformat_minor": 2
}
